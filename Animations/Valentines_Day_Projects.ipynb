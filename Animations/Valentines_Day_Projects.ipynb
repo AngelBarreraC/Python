{
 "cells": [
  {
   "cell_type": "markdown",
   "metadata": {},
   "source": [
    "### Sorpresa 1: Muestra tu corazón"
   ]
  },
  {
   "cell_type": "code",
   "execution_count": 2,
   "metadata": {},
   "outputs": [],
   "source": [
    "import numpy as np\n",
    "import matplotlib.pyplot as plt"
   ]
  },
  {
   "cell_type": "code",
   "execution_count": 3,
   "metadata": {},
   "outputs": [
    {
     "data": {
      "image/png": "[encoded data removed]",
      "text/plain": [
       "<Figure size 640x480 with 1 Axes>"
      ]
     },
     "metadata": {},
     "output_type": "display_data"
    }
   ],
   "source": [
    "x_coordenadas = np.linspace(-200, 200, 600)\n",
    "y_coordenadas = np.linspace(-200, 200, 600)\n",
    "corazon_x = []\n",
    "corazon_y = []\n",
    "for y in y_coordenadas:\n",
    "    for x in x_coordenadas:\n",
    "        if ((x*0.01)**2+(y*0.01)**2-1)**3-(x*0.01)**2*(y*0.01)**3 <= 0:\n",
    "            corazon_x.append(x)\n",
    "            corazon_y.append(y)\n",
    "\n",
    "# Setear el gráfico\n",
    "plt.scatter(corazon_x, corazon_y, c=\"red\")\n",
    "plt.axis('off')\n",
    "# Guardar el gráfico en un archivo\n",
    "plt.savefig('proyecto1-corazon-2022-02-14.png')\n",
    "# Mostrar el gráfico\n",
    "plt.show()"
   ]
  },
  {
   "cell_type": "markdown",
   "metadata": {},
   "source": [
    "### Sorpresa 2: Corazón rellenado con las letras de su nombre"
   ]
  },
  {
   "cell_type": "code",
   "execution_count": 4,
   "metadata": {},
   "outputs": [
    {
     "name": "stdout",
     "output_type": "stream",
     "text": [
      "\u001b[0;31;50m\n",
      "          CitlaCitlaC                itlaCitlaCi\n",
      "      tlaCitlaCitlaCitla          CitlaCitlaCitlaCit\n",
      "   laCitlaCitlaCitlaCitlaC      itlaCitlaCitlaCitlaCitl\n",
      "  aCitlaCitlaCitlaCitlaCitl    aCitlaCitlaCitlaCitlaCitl\n",
      " aCitlaCitlaCitlaCitlaCitlaC  itlaCitlaCitlaCitlaCitlaCit\n",
      " laCitlaCitlaCitlaCitlaCitlaCitlaCitlaCitlaCitlaCitlaCitl\n",
      " aCitlaCitlaCitlaCitlaCitlaCitlaCitlaCitlaCitlaCitlaCitla\n",
      "  CitlaCitlaCitlaCitlaCitlaCitlaCitlaCitlaCitlaCitlaCitl\n",
      "  aCitlaCitlaCitlaCitlaCitlaCitlaCitlaCitlaCitlaCitlaCit\n",
      "    laCitlaCitlaCitlaCitlaCitlaCitlaCitlaCitlaCitlaCit\n",
      "      laCitlaCitlaCitlaCitlaCitlaCitlaCitlaCitlaCitl\n",
      "        aCitlaCitlaCitlaCitlaCitlaCitlaCitlaCitlaC\n",
      "          itlaCitlaCitlaCitlaCitlaCitlaCitlaCitl\n",
      "            aCitlaCitlaCitlaCitlaCitlaCitlaCit\n",
      "              laCitlaCitlaCitlaCitlaCitlaCit\n",
      "                laCitlaCitlaCitlaCitlaCitl\n",
      "                  aCitlaCitlaCitlaCitlaC\n",
      "                     itlaCitlaCitlaCi\n",
      "                        tlaCitlaCi\n",
      "                          tlaCit\n",
      "                            la\n",
      "\u001b[0m\n",
      "Te amo mucho, \u001b[1;31;50mCitla\u001b[0m. Feliz día de San Valentín!\n"
     ]
    }
   ],
   "source": [
    "__CORAZON__ = '''\n",
    "          @@@@@@@@@@@                @@@@@@@@@@@\n",
    "      @@@@@@@@@@@@@@@@@@          @@@@@@@@@@@@@@@@@@\n",
    "   @@@@@@@@@@@@@@@@@@@@@@@      @@@@@@@@@@@@@@@@@@@@@@@\n",
    "  @@@@@@@@@@@@@@@@@@@@@@@@@    @@@@@@@@@@@@@@@@@@@@@@@@@\n",
    " @@@@@@@@@@@@@@@@@@@@@@@@@@@  @@@@@@@@@@@@@@@@@@@@@@@@@@@\n",
    " @@@@@@@@@@@@@@@@@@@@@@@@@@@@@@@@@@@@@@@@@@@@@@@@@@@@@@@@\n",
    " @@@@@@@@@@@@@@@@@@@@@@@@@@@@@@@@@@@@@@@@@@@@@@@@@@@@@@@@\n",
    "  @@@@@@@@@@@@@@@@@@@@@@@@@@@@@@@@@@@@@@@@@@@@@@@@@@@@@@\n",
    "  @@@@@@@@@@@@@@@@@@@@@@@@@@@@@@@@@@@@@@@@@@@@@@@@@@@@@@\n",
    "    @@@@@@@@@@@@@@@@@@@@@@@@@@@@@@@@@@@@@@@@@@@@@@@@@@\n",
    "      @@@@@@@@@@@@@@@@@@@@@@@@@@@@@@@@@@@@@@@@@@@@@@\n",
    "        @@@@@@@@@@@@@@@@@@@@@@@@@@@@@@@@@@@@@@@@@@\n",
    "          @@@@@@@@@@@@@@@@@@@@@@@@@@@@@@@@@@@@@@\n",
    "            @@@@@@@@@@@@@@@@@@@@@@@@@@@@@@@@@@\n",
    "              @@@@@@@@@@@@@@@@@@@@@@@@@@@@@@\n",
    "                @@@@@@@@@@@@@@@@@@@@@@@@@@\n",
    "                  @@@@@@@@@@@@@@@@@@@@@@\n",
    "                     @@@@@@@@@@@@@@@@\n",
    "                        @@@@@@@@@@\n",
    "                          @@@@@@\n",
    "                            @@\n",
    "'''\n",
    "\n",
    "class Color:\n",
    "    @property\n",
    "    def RED(self):\n",
    "        return '\\x1b[0;31;50m'\n",
    "\n",
    "    @property\n",
    "    def BOLD_RED(self):\n",
    "        return '\\x1b[1;31;50m'\n",
    "\n",
    "    @property\n",
    "    def NORMAL(self):\n",
    "        return '\\x1b[0m'\n",
    "\n",
    "class San_Valentin:\n",
    "    def __init__(self, nombre):\n",
    "        self.tu_persona = nombre\n",
    "\n",
    "    def romantizar(self):\n",
    "        tu_en_mi_corazon = __CORAZON__\n",
    "        while '@' in tu_en_mi_corazon:\n",
    "            for letra in list(self.tu_persona):\n",
    "                tu_en_mi_corazon = tu_en_mi_corazon.replace('@', letra, 1)\n",
    "        return tu_en_mi_corazon\n",
    "\n",
    "    def te_amo(self):\n",
    "        C = Color()\n",
    "        return '{}{}{}\\n'\\\n",
    "               'Te amo mucho, {}{}{}. Feliz día de San Valentín!'.format(C.RED, self.romantizar(), C.NORMAL, C.BOLD_RED, self.tu_persona, C.NORMAL)\n",
    "\n",
    "def main():\n",
    "    try:\n",
    "        nombre = 'Citla'\n",
    "    except IndexError:\n",
    "        nombre = 'Love'\n",
    "\n",
    "    mi_amada = San_Valentin(nombre)\n",
    "    print(mi_amada.te_amo())\n",
    "\n",
    "if __name__ == '__main__':\n",
    "    main()"
   ]
  },
  {
   "cell_type": "markdown",
   "metadata": {},
   "source": [
    "### Sorpresa 3: Corazón rellenado de una letra con mensaje interior"
   ]
  },
  {
   "cell_type": "code",
   "execution_count": 5,
   "metadata": {},
   "outputs": [],
   "source": [
    "import math"
   ]
  },
  {
   "cell_type": "code",
   "execution_count": 6,
   "metadata": {},
   "outputs": [
    {
     "name": "stdout",
     "output_type": "stream",
     "text": [
      "       IIIIIII             IIIIIII       \n",
      "     IIIIIIIIIII         IIIIIIIIIII     \n",
      "    IIIIIIIIIIIII       IIIIIIIIIIIII    \n",
      "   IIIIIIIIIIIIIII     IIIIIIIIIIIIIII   \n",
      "  IIIIIIIIIIIIIIIII   IIIIIIIIIIIIIIIII  \n",
      " IIIIIIIIIIIIIIIIIII IIIIIIIIIIIIIIIIIII \n",
      " IIIIIIIIIIIIIIIIIII IIIIIIIIIIIIIIIIIII \n",
      "IIIIIIIIIIIIIIIIIIIIIIIIIIIIIIIIIIIIIIIII\n",
      "IIIIIIIIIIIIIIIIIIIIIIIIIIIIIIIIIIIIIIIII\n",
      "IIIIIIIIIIIIIIIIIIIIIIIIIIIIIIIIIIIIIIIII\n",
      " IIIIIIIIIIIIIIIIIIIIIIIIIIIIIIIIIIIIIII\n",
      "  IIIIIIIIIIIIIIIIIIIIIIIIIIIIIIIIIIIII\n",
      "   IIII                          IIIII\n",
      "    III Te amo, mi Solecito! <3  IIII\n",
      "     II                          III\n",
      "      IIIIIIIIIIIIIIIIIIIIIIIIIIIII\n",
      "       IIIIIIIIIIIIIIIIIIIIIIIIIII\n",
      "        IIIIIIIIIIIIIIIIIIIIIIIII\n",
      "         IIIIIIIIIIIIIIIIIIIIIII\n",
      "          IIIIIIIIIIIIIIIIIIIII\n",
      "           IIIIIIIIIIIIIIIIIII\n",
      "            IIIIIIIIIIIIIIIII\n",
      "             IIIIIIIIIIIIIII\n",
      "              IIIIIIIIIIIII\n",
      "               IIIIIIIIIII\n",
      "                IIIIIIIII\n",
      "                 IIIIIII\n",
      "                  IIIII\n",
      "                   III\n"
     ]
    }
   ],
   "source": [
    "n = 10\n",
    " \n",
    "# Inicializar texto para imprimir en el corazón\n",
    "mensaje = \" Te amo, mi Burra prieta! <3 \"\n",
    " \n",
    "# Posición desde donde se colocaría el cuadro de mensaje superior\n",
    "imprimir_mensaje = 4\n",
    " \n",
    "# Agregar espacio si la longitud del mensaje es impar\n",
    "if (len(mensaje) % 2 != 0):\n",
    "    mensaje += \" \"\n",
    " \n",
    "# Bucle externo para ajustar la longitud del mensaje de la parte superior que no se maneja en esta parte\n",
    "for a in range(n):    \n",
    "    # Para imprimir espacio y variable en consecuencia\n",
    "    for b in range(4 * n + 1):    \n",
    "        # Cálculo de distancia para imprimir variable\n",
    "        distancia1 = math.sqrt(pow(a - n, 2) + pow(b - n, 2))\n",
    "        distancia2 = math.sqrt(pow(a - n, 2) + pow(b - 3 * n, 2))\n",
    "                               \n",
    "        if (distancia1 < n + 0.5 or\n",
    "            distancia2 < n + 0.5):\n",
    "            print(\"I\", end = \"\") # Cambiar la \"I\" por la letra que se desee\n",
    "        else:\n",
    "            print(\" \", end = \"\")   \n",
    "    print() # Línea final después de cada iteración\n",
    " \n",
    "# Imprimiendo la parte del mensaje y la parte inferior del corazón. El lazo exterior maneja la profundidad del corazón\n",
    "for a in range(1, 2 * n):\n",
    " \n",
    "    # Para obtener la curva inferior del corazón\n",
    "    for b in range(a):\n",
    "        print(\" \", end = \"\")\n",
    "         \n",
    "    # El bucle interno maneja el mensaje y los espacios en consecuencia\n",
    "    for b in range(4*n + 1 - 2*a):\n",
    "         \n",
    "        # Comprueba si la altura está dentro del rango del espacio del mensaje\n",
    "        if (a >= imprimir_mensaje - 1 and a <= imprimir_mensaje + 1):\n",
    "            punto = b - (4*n - 2*a - len(mensaje)) // 2\n",
    " \n",
    "            # Imprime el mensaje después de dejar el espacio apropiado\n",
    "            if (punto < len(mensaje) and punto >= 0):\n",
    "                if (a == imprimir_mensaje):\n",
    "                    print(mensaje[punto], end = \"\")\n",
    "                else:\n",
    "                    print(\" \", end = \"\")\n",
    "            else:\n",
    "                print(\"I\", end = \"\") # Cambiar la \"I\" por la letra que se desee\n",
    "        else:\n",
    "            print(\"I\", end = \"\") # Cambiar la \"I\" por la letra que se desee\n",
    "    print()"
   ]
  },
  {
   "cell_type": "markdown",
   "metadata": {},
   "source": [
    "### Sorpresa 4: Corazón en hoja de papel"
   ]
  },
  {
   "cell_type": "code",
   "execution_count": 7,
   "metadata": {},
   "outputs": [],
   "source": [
    "import numpy as np\n",
    "import matplotlib.pyplot as plt\n",
    "import matplotlib.ticker as tick"
   ]
  },
  {
   "cell_type": "code",
   "execution_count": 8,
   "metadata": {},
   "outputs": [
    {
     "data": {
      "image/png": "[encoded data removed]",
      "text/plain": [
       "<Figure size 960x720 with 2 Axes>"
      ]
     },
     "metadata": {},
     "output_type": "display_data"
    }
   ],
   "source": [
    "def plotear_corazon(mensaje, firma, archivo):\n",
    "    # Plotear los puntos\n",
    "    x = np.linspace(-1, 1, 10001)\n",
    "    y1 = np.sqrt(1 - np.abs(x)) * np.sqrt(np.abs(x))\n",
    "    y2 = (-3/2) * np.sqrt(1 - np.sqrt((np.abs(x))))\n",
    "    plt.plot(x, y1, color='red')\n",
    "    plt.plot(x, y2, color='red')\n",
    "\n",
    "    # Escribir mensaje\n",
    "    text_args = {'size': 'x-large', 'color': '#00c785', 'family': 'fantasy'}\n",
    "    plt.text(0, -0.4, mensaje, horizontalalignment='center', **text_args)\n",
    "    plt.text(0.98, -1.5, firma, horizontalalignment='right', **text_args)\n",
    "\n",
    "    # Establecer propiedades del gráfico\n",
    "    plt.xlim([-1.5, 1.5])\n",
    "    plt.ylim([-1.8, 0.8])\n",
    "    plt.tick_params(which='major', colors='blue', width='0.2')\n",
    "    plt.tick_params(which='minor', colors='blue', width='0.1')\n",
    "    plt.grid(True, which='major', color='purple', linestyle='-', linewidth='0.2')\n",
    "    plt.grid(True, which='minor', color='purple', linestyle='-', linewidth='0.1')\n",
    "    axes = plt.axes()\n",
    "    axes.set_aspect('equal')\n",
    "    axes.spines['bottom'].set_color('blue')\n",
    "    axes.spines['top'].set_color('blue')\n",
    "    axes.spines['right'].set_color('blue')\n",
    "    axes.spines['left'].set_color('blue')\n",
    "    axes.xaxis.set_major_locator(tick.MultipleLocator(0.5))\n",
    "    axes.xaxis.set_minor_locator(tick.MultipleLocator(0.1))\n",
    "    axes.yaxis.set_major_locator(tick.MultipleLocator(0.5))\n",
    "    axes.yaxis.set_minor_locator(tick.MultipleLocator(0.1))\n",
    "\n",
    "    # Guardar el gráfico en un archivo\n",
    "    grafico = plt.gcf()\n",
    "    grafico.set_size_inches(9.6, 7.2)\n",
    "    plt.savefig(archivo)\n",
    "\n",
    "plotear_corazon('Te amo, mi Solecito! <3', '\\u2014 Sandreke', 'proyecto2-corazon-2022-02-14.png')"
   ]
  },
  {
   "cell_type": "markdown",
   "metadata": {},
   "source": [
    "### Sorpresa 5: Dibujo y pintado de corazón rojo con mensaje interior"
   ]
  },
  {
   "cell_type": "code",
   "execution_count": 9,
   "metadata": {},
   "outputs": [],
   "source": [
    "import turtle"
   ]
  },
  {
   "cell_type": "code",
   "execution_count": 13,
   "metadata": {},
   "outputs": [
    {
     "ename": "TypeError",
     "evalue": "bye() takes 0 positional arguments but 1 was given",
     "output_type": "error",
     "traceback": [
      "\u001b[1;31m---------------------------------------------------------------------------\u001b[0m",
      "\u001b[1;31mTypeError\u001b[0m                                 Traceback (most recent call last)",
      "\u001b[1;32md:\\OneDrive - UNIFIN FINANCIERA\\Documentos\\Python\\Animations\\Valentines_Day_Projects.ipynb Celda 14\u001b[0m line \u001b[0;36m3\n\u001b[0;32m     <a href='vscode-notebook-cell:/d%3A/OneDrive%20-%20UNIFIN%20FINANCIERA/Documentos/Python/Animations/Valentines_Day_Projects.ipynb#X16sZmlsZQ%3D%3D?line=35'>36</a>\u001b[0m texto()\n\u001b[0;32m     <a href='vscode-notebook-cell:/d%3A/OneDrive%20-%20UNIFIN%20FINANCIERA/Documentos/Python/Animations/Valentines_Day_Projects.ipynb#X16sZmlsZQ%3D%3D?line=36'>37</a>\u001b[0m turtle\u001b[39m.\u001b[39mdone()\n\u001b[1;32m---> <a href='vscode-notebook-cell:/d%3A/OneDrive%20-%20UNIFIN%20FINANCIERA/Documentos/Python/Animations/Valentines_Day_Projects.ipynb#X16sZmlsZQ%3D%3D?line=37'>38</a>\u001b[0m turtle\u001b[39m.\u001b[39;49mbye(\u001b[39m0\u001b[39;49m)\n",
      "\u001b[1;31mTypeError\u001b[0m: bye() takes 0 positional arguments but 1 was given"
     ]
    }
   ],
   "source": [
    "# Color del fondo de la animación\n",
    "turtle.bgcolor(\"black\")\n",
    "\n",
    "# Crear un objeto Turtle (lápiz)\n",
    "pen = turtle.Turtle()\n",
    "pen.pencolor(\"red\")\n",
    "\n",
    "# Definir método para dibujar curvas\n",
    "def curva():\n",
    "    for i in range(200):\n",
    "        pen.right(1)\n",
    "        pen.forward(1)\n",
    "\n",
    "# Definir método para dibujar un corazón lleno\n",
    "def corazon():\n",
    "    pen.fillcolor('red')\n",
    "    pen.begin_fill()\n",
    "    pen.left(140)\n",
    "    pen.forward(113)\n",
    "    curva()\n",
    "    pen.left(120)\n",
    "    curva()\n",
    "    pen.forward(112)\n",
    "    pen.end_fill()\n",
    "\n",
    "# Definir métodos para dibujar un corazón lleno\n",
    "def texto():\n",
    "    pen.up()\n",
    "    pen.setpos(-80, 95)\n",
    "    pen.down()\n",
    "    pen.color('white')\n",
    "    pen.write('Te amo, mi Citla!',font=(\"Verdana\", 12, \"bold\"))\n",
    "\n",
    "corazon()\n",
    "pen.ht()\n",
    "texto()\n",
    "turtle.done()\n",
    "turtle.bye(0)"
   ]
  },
  {
   "cell_type": "markdown",
   "metadata": {},
   "source": [
    "### Sorpresa 6: Dibujo y pintado de corazones (usando Turtle)"
   ]
  },
  {
   "cell_type": "code",
   "execution_count": null,
   "metadata": {},
   "outputs": [],
   "source": [
    "# !pip install pythonturtle"
   ]
  },
  {
   "cell_type": "code",
   "execution_count": 11,
   "metadata": {},
   "outputs": [],
   "source": [
    "import turtle as t\n",
    "import random"
   ]
  },
  {
   "cell_type": "code",
   "execution_count": 12,
   "metadata": {},
   "outputs": [
    {
     "ename": "Terminator",
     "evalue": "",
     "output_type": "error",
     "traceback": [
      "\u001b[1;31m---------------------------------------------------------------------------\u001b[0m",
      "\u001b[1;31mTerminator\u001b[0m                                Traceback (most recent call last)",
      "\u001b[1;32md:\\OneDrive - UNIFIN FINANCIERA\\Documentos\\Python\\Animations\\Valentines_Day_Projects.ipynb Celda 18\u001b[0m line \u001b[0;36m3\n\u001b[0;32m     <a href='vscode-notebook-cell:/d%3A/OneDrive%20-%20UNIFIN%20FINANCIERA/Documentos/Python/Animations/Valentines_Day_Projects.ipynb#X23sZmlsZQ%3D%3D?line=30'>31</a>\u001b[0m     t\u001b[39m.\u001b[39mgetcanvas()\u001b[39m.\u001b[39mpostscript(file \u001b[39m=\u001b[39m \u001b[39m\"\u001b[39m\u001b[39mproyecto6-corazon-2022-02-14.eps\u001b[39m\u001b[39m\"\u001b[39m)\n\u001b[0;32m     <a href='vscode-notebook-cell:/d%3A/OneDrive%20-%20UNIFIN%20FINANCIERA/Documentos/Python/Animations/Valentines_Day_Projects.ipynb#X23sZmlsZQ%3D%3D?line=31'>32</a>\u001b[0m     t\u001b[39m.\u001b[39mdone()\n\u001b[1;32m---> <a href='vscode-notebook-cell:/d%3A/OneDrive%20-%20UNIFIN%20FINANCIERA/Documentos/Python/Animations/Valentines_Day_Projects.ipynb#X23sZmlsZQ%3D%3D?line=33'>34</a>\u001b[0m main()\n",
      "\u001b[1;32md:\\OneDrive - UNIFIN FINANCIERA\\Documentos\\Python\\Animations\\Valentines_Day_Projects.ipynb Celda 18\u001b[0m line \u001b[0;36m2\n\u001b[0;32m     <a href='vscode-notebook-cell:/d%3A/OneDrive%20-%20UNIFIN%20FINANCIERA/Documentos/Python/Animations/Valentines_Day_Projects.ipynb#X23sZmlsZQ%3D%3D?line=23'>24</a>\u001b[0m \u001b[39mdef\u001b[39;00m \u001b[39mmain\u001b[39m():\n\u001b[1;32m---> <a href='vscode-notebook-cell:/d%3A/OneDrive%20-%20UNIFIN%20FINANCIERA/Documentos/Python/Animations/Valentines_Day_Projects.ipynb#X23sZmlsZQ%3D%3D?line=24'>25</a>\u001b[0m     t\u001b[39m.\u001b[39;49mspeed(\u001b[39m0\u001b[39;49m)\n\u001b[0;32m     <a href='vscode-notebook-cell:/d%3A/OneDrive%20-%20UNIFIN%20FINANCIERA/Documentos/Python/Animations/Valentines_Day_Projects.ipynb#X23sZmlsZQ%3D%3D?line=25'>26</a>\u001b[0m     t\u001b[39m.\u001b[39mcolormode(\u001b[39m255\u001b[39m)\n\u001b[0;32m     <a href='vscode-notebook-cell:/d%3A/OneDrive%20-%20UNIFIN%20FINANCIERA/Documentos/Python/Animations/Valentines_Day_Projects.ipynb#X23sZmlsZQ%3D%3D?line=26'>27</a>\u001b[0m     AmoAMiEnamorada(\u001b[39m20\u001b[39m,\u001b[39m0\u001b[39m,\u001b[39m8\u001b[39m)\n",
      "File \u001b[1;32m<string>:5\u001b[0m, in \u001b[0;36mspeed\u001b[1;34m(speed)\u001b[0m\n",
      "\u001b[1;31mTerminator\u001b[0m: "
     ]
    }
   ],
   "source": [
    "def hacerCorazon(tamano):\n",
    "    t.forward(tamano)\n",
    "    t.circle(tamano/2, 180)\n",
    "    t.right(90)\n",
    "    t.circle(tamano/2, 180)\n",
    "    t.forward(tamano)\n",
    "    t.left(90)\n",
    "\n",
    "def AmoAMiEnamorada(tamano, longitud, profundidad):\n",
    "    if profundidad == 0:\n",
    "        return\n",
    "    AmoAMiEnamorada(tamano*1.5, longitud, profundidad-1)\n",
    "    contador = 360\n",
    "    while contador > 0:\n",
    "        colorCorazon = random.randint(100, 255), random.randint(100, 255), random.randint(100, 255)\n",
    "        t.color(colorCorazon)\n",
    "        t.fillcolor(colorCorazon)\n",
    "        t.begin_fill()\n",
    "        hacerCorazon(tamano)\n",
    "        t.end_fill()\n",
    "        t.left(45)\n",
    "        contador = contador-45\n",
    "\n",
    "def main():\n",
    "    t.speed(0)\n",
    "    t.colormode(255)\n",
    "    AmoAMiEnamorada(20,0,8)\n",
    "    t.back(100)\n",
    "    t.color(\"white\")\n",
    "    t.write(\"Te amo, mi Solecito! <3\", move=False, align=\"left\", font=(\"Courier New\", 24, \"bold\"))\n",
    "    t.getcanvas().postscript(file = \"proyecto6-corazon-2022-02-14.eps\")\n",
    "    t.done()\n",
    "    \n",
    "main()"
   ]
  },
  {
   "cell_type": "code",
   "execution_count": null,
   "metadata": {},
   "outputs": [],
   "source": []
  }
 ],
 "metadata": {
  "kernelspec": {
   "display_name": "Python 3",
   "language": "python",
   "name": "python3"
  },
  "language_info": {
   "codemirror_mode": {
    "name": "ipython",
    "version": 3
   },
   "file_extension": ".py",
   "mimetype": "text/x-python",
   "name": "python",
   "nbconvert_exporter": "python",
   "pygments_lexer": "ipython3",
   "version": "3.8.10"
  }
 },
 "nbformat": 4,
 "nbformat_minor": 2
}
